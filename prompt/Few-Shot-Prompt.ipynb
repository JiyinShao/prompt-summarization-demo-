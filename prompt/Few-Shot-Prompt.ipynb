{
 "cells": [
  {
   "cell_type": "markdown",
   "id": "76f2a25d",
   "metadata": {},
   "source": [
    "Import all dependencies"
   ]
  },
  {
   "cell_type": "code",
   "execution_count": 1,
   "id": "17ee0815",
   "metadata": {},
   "outputs": [
    {
     "name": "stderr",
     "output_type": "stream",
     "text": [
      "e:\\Adelaide\\2025s1\\projectA\\JiyinShao-a1903968\\.venv\\Lib\\site-packages\\tqdm\\auto.py:21: TqdmWarning: IProgress not found. Please update jupyter and ipywidgets. See https://ipywidgets.readthedocs.io/en/stable/user_install.html\n",
      "  from .autonotebook import tqdm as notebook_tqdm\n"
     ]
    }
   ],
   "source": [
    "from datasets import load_dataset\n",
    "from transformers import AutoTokenizer, AutoModelForSeq2SeqLM\n",
    "import torch\n",
    "import evaluate\n",
    "# .\\.venv\\Scripts\\activate"
   ]
  },
  {
   "cell_type": "markdown",
   "id": "95fceaa2",
   "metadata": {},
   "source": [
    "Load the CNN dataset (Data source)"
   ]
  },
  {
   "cell_type": "code",
   "execution_count": 2,
   "id": "fd8dcabd",
   "metadata": {},
   "outputs": [],
   "source": [
    "dataset = load_dataset(\"cnn_dailymail\", \"3.0.0\")\n",
    "sample = dataset['test'][1]\n",
    "article = sample['article']\n",
    "reference_summary = sample['highlights']"
   ]
  },
  {
   "cell_type": "markdown",
   "id": "3e237a63",
   "metadata": {},
   "source": [
    "Create Examples"
   ]
  },
  {
   "cell_type": "code",
   "execution_count": 3,
   "id": "f11b0a78",
   "metadata": {},
   "outputs": [],
   "source": [
    "example1_article = dataset['test'][1]['article'][:300]\n",
    "example1_summary = dataset['test'][1]['highlights']\n",
    "\n",
    "example2_article = dataset['test'][2]['article'][:300]\n",
    "example2_summary = dataset['test'][2]['highlights']\n",
    "\n",
    "prompt = (\n",
    "    \"Summarize the article based on the examples.\\n\\n\"\n",
    "    \"Example 1:\\n\"\n",
    "    f\"Article: {example1_article}\\n\"\n",
    "    f\"Summary: {example1_summary}\\n\\n\"\n",
    "    \"Example 2:\\n\"\n",
    "    f\"Article: {example2_article}\\n\"\n",
    "    f\"Summary: {example2_summary}\\n\\n\"\n",
    "    \"Now summarize this article:\\n\"\n",
    "    f\"Article: {article}\"\n",
    ")"
   ]
  },
  {
   "cell_type": "markdown",
   "id": "f69b0651",
   "metadata": {},
   "source": [
    "Generate Summary"
   ]
  },
  {
   "cell_type": "code",
   "execution_count": 6,
   "id": "c25a9396",
   "metadata": {},
   "outputs": [
    {
     "name": "stdout",
     "output_type": "stream",
     "text": [
      "Few Shot Summary:\n",
      " A dog in Washington State has used up at least three of her own after being hit by a car, apparently whacked on the head with a hammer in a misguided mercy killing and then buried in a field -- only to survive.\n"
     ]
    }
   ],
   "source": [
    "model_name = \"google/flan-t5-base\"\n",
    "tokenizer = AutoTokenizer.from_pretrained(model_name)\n",
    "model = AutoModelForSeq2SeqLM.from_pretrained(model_name)\n",
    "\n",
    "inputs = tokenizer(prompt, return_tensors=\"pt\", truncation=True, max_length=1024)\n",
    "outputs = model.generate(inputs.input_ids, max_new_tokens=200)\n",
    "\n",
    "summary = tokenizer.decode(outputs[0], skip_special_tokens=True)\n",
    "print(\"Few Shot Summary:\\n\", summary)"
   ]
  },
  {
   "cell_type": "markdown",
   "id": "e770f1f1",
   "metadata": {},
   "source": [
    "Evaluate (ROUGE)"
   ]
  },
  {
   "cell_type": "code",
   "execution_count": 7,
   "id": "2e1f82ce",
   "metadata": {},
   "outputs": [
    {
     "name": "stdout",
     "output_type": "stream",
     "text": [
      "\n",
      "ROUGE SCORE: {'rouge1': np.float64(0.4), 'rouge2': np.float64(0.1927710843373494), 'rougeL': np.float64(0.3294117647058823), 'rougeLsum': np.float64(0.3764705882352941)}\n"
     ]
    }
   ],
   "source": [
    "rouge = evaluate.load(\"rouge\")\n",
    "results = rouge.compute(predictions=[summary], references=[reference_summary])\n",
    "print(\"\\nROUGE SCORE:\", results)"
   ]
  }
 ],
 "metadata": {
  "kernelspec": {
   "display_name": ".venv",
   "language": "python",
   "name": "python3"
  },
  "language_info": {
   "codemirror_mode": {
    "name": "ipython",
    "version": 3
   },
   "file_extension": ".py",
   "mimetype": "text/x-python",
   "name": "python",
   "nbconvert_exporter": "python",
   "pygments_lexer": "ipython3",
   "version": "3.12.3"
  }
 },
 "nbformat": 4,
 "nbformat_minor": 5
}

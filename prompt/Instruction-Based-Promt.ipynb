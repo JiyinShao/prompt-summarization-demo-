{
 "cells": [
  {
   "cell_type": "markdown",
   "id": "7dff544b",
   "metadata": {},
   "source": [
    "Import all dependencies"
   ]
  },
  {
   "cell_type": "code",
   "execution_count": 1,
   "id": "4441baa3",
   "metadata": {},
   "outputs": [
    {
     "name": "stderr",
     "output_type": "stream",
     "text": [
      "e:\\Adelaide\\2025s1\\projectA\\JiyinShao-a1903968\\.venv\\Lib\\site-packages\\tqdm\\auto.py:21: TqdmWarning: IProgress not found. Please update jupyter and ipywidgets. See https://ipywidgets.readthedocs.io/en/stable/user_install.html\n",
      "  from .autonotebook import tqdm as notebook_tqdm\n"
     ]
    }
   ],
   "source": [
    "from datasets import load_dataset\n",
    "from transformers import AutoTokenizer, AutoModelForSeq2SeqLM\n",
    "import torch\n",
    "import evaluate\n",
    "# .\\.venv\\Scripts\\activate"
   ]
  },
  {
   "cell_type": "markdown",
   "id": "4782fe54",
   "metadata": {},
   "source": [
    "Load the CNN dataset (Data source)"
   ]
  },
  {
   "cell_type": "code",
   "execution_count": 2,
   "id": "a609c421",
   "metadata": {},
   "outputs": [
    {
     "name": "stdout",
     "output_type": "stream",
     "text": [
      "ARTICLE:\n",
      " (CNN)Never mind cats having nine lives. A stray pooch in Washington State has used up at least three of her own after being hit by a car, apparently whacked on the head with a hammer in a misguided mercy killing and then buried in a field -- only to survive. That's according to Washington State University, where the dog -- a friendly white-and-black bully breed mix now named Theia -- has been receiving care at the Veterinary Teaching Hospital. Four days after her apparent death, the dog managed  ...\n",
      "\n",
      "REFERENCE SUMMARY:\n",
      " Theia, a bully breed mix, was apparently hit by a car, whacked with a hammer and buried in a field .\n",
      "\"She's a true miracle dog and she deserves a good life,\" says Sara Mellado, who is looking for a home for Theia . \n",
      "\n"
     ]
    }
   ],
   "source": [
    "dataset = load_dataset(\"cnn_dailymail\", \"3.0.0\")\n",
    "sample = dataset['test'][1]\n",
    "\n",
    "article = sample['article']\n",
    "reference_summary = sample['highlights']\n",
    "\n",
    "print(\"ARTICLE:\\n\", article[:500], \"...\\n\")\n",
    "print(\"REFERENCE SUMMARY:\\n\", reference_summary, \"\\n\")"
   ]
  },
  {
   "cell_type": "markdown",
   "id": "64efb062",
   "metadata": {},
   "source": [
    "Generate Summary"
   ]
  },
  {
   "cell_type": "code",
   "execution_count": 3,
   "id": "1c72ca30",
   "metadata": {},
   "outputs": [
    {
     "name": "stdout",
     "output_type": "stream",
     "text": [
      "Instruction-based Summary:\n",
      " A dog in Washington State has used up at least three of her own after being hit by a car, apparently whacked on the head with a hammer in a misguided mercy killing and then buried in a field -- only to survive. \n",
      "\n"
     ]
    }
   ],
   "source": [
    "model_name = \"google/flan-t5-base\"\n",
    "tokenizer = AutoTokenizer.from_pretrained(model_name)\n",
    "model = AutoModelForSeq2SeqLM.from_pretrained(model_name)\n",
    "\n",
    "# Instruction-based Prompt\n",
    "prompt = f\"Please summarize the following article in 2–3 sentences:\\n\\n{article}\"\n",
    "inputs = tokenizer(prompt, return_tensors=\"pt\", truncation=True, max_length=512)\n",
    "outputs = model.generate(inputs.input_ids, max_new_tokens=200)\n",
    "summary = tokenizer.decode(outputs[0], skip_special_tokens=True)\n",
    "\n",
    "print(\"Instruction-based Summary:\\n\", summary, \"\\n\")"
   ]
  },
  {
   "cell_type": "markdown",
   "id": "af529f28",
   "metadata": {},
   "source": [
    "Evaluate (ROUGE)"
   ]
  },
  {
   "cell_type": "code",
   "execution_count": 4,
   "id": "06c8f1e2",
   "metadata": {},
   "outputs": [
    {
     "name": "stdout",
     "output_type": "stream",
     "text": [
      "ROUGE Score - Instruction-based: {'rouge1': np.float64(0.4), 'rouge2': np.float64(0.1927710843373494), 'rougeL': np.float64(0.3294117647058823), 'rougeLsum': np.float64(0.3764705882352941)}\n"
     ]
    }
   ],
   "source": [
    "rouge = evaluate.load(\"rouge\")\n",
    "results = rouge.compute(predictions=[summary], references=[reference_summary])\n",
    "print(\"ROUGE Score - Instruction-based:\", results)"
   ]
  }
 ],
 "metadata": {
  "kernelspec": {
   "display_name": ".venv",
   "language": "python",
   "name": "python3"
  },
  "language_info": {
   "codemirror_mode": {
    "name": "ipython",
    "version": 3
   },
   "file_extension": ".py",
   "mimetype": "text/x-python",
   "name": "python",
   "nbconvert_exporter": "python",
   "pygments_lexer": "ipython3",
   "version": "3.12.3"
  }
 },
 "nbformat": 4,
 "nbformat_minor": 5
}

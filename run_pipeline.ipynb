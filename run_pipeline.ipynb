!git clone https://github.com/JiyinShao/prompt-summarization-demo.git
%cd prompt-summarization-demo

!pip install -r requirements.txt

!python main.py

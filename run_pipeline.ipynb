{
  "nbformat": 4,
  "nbformat_minor": 0,
  "metadata": {
    "colab": {
      "provenance": [],
      "authorship_tag": "ABX9TyMjPDATgwNxnk7PPkm6f44F",
      "include_colab_link": true
    },
    "kernelspec": {
      "name": "python3",
      "display_name": "Python 3"
    },
    "language_info": {
      "name": "python"
    }
  },
  "cells": [
    {
      "cell_type": "markdown",
      "metadata": {
        "id": "view-in-github",
        "colab_type": "text"
      },
      "source": [
        "<a href=\"https://colab.research.google.com/github/JiyinShao/prompt-summarization-demo-/blob/main/run_pipeline.ipynb\" target=\"_parent\"><img src=\"https://colab.research.google.com/assets/colab-badge.svg\" alt=\"Open In Colab\"/></a>"
      ]
    },
    {
      "cell_type": "code",
      "execution_count": null,
      "metadata": {
        "id": "Sr_HDhNwwNXk"
      },
      "outputs": [],
      "source": [
        "!git clone https://github.com/JiyinShao/prompt-summarization-demo.git\n",
        "%cd prompt-summarization-demo\n",
        "\n",
        "!pip install -r requirements.txt\n",
        "\n",
        "!python main.py\n"
      ]
    }
  ]
}